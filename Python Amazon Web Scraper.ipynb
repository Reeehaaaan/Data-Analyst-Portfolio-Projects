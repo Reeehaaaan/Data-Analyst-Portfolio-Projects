{
 "cells": [
  {
   "cell_type": "markdown",
   "id": "75ef2259-551a-4726-a6d6-feb04a1d6867",
   "metadata": {},
   "source": [
    "# Amazon Web Scrapping\n",
    "\n",
    "find your user agent : https://httpbin.org/get"
   ]
  },
  {
   "cell_type": "code",
   "execution_count": 42,
   "id": "b4214683-4516-4327-bc6b-477205bb1418",
   "metadata": {},
   "outputs": [],
   "source": [
    "from bs4 import BeautifulSoup\n",
    "import requests\n",
    "import time\n",
    "import datetime\n",
    "\n",
    "import smtplib"
   ]
  },
  {
   "cell_type": "code",
   "execution_count": 100,
   "id": "f3ed1a70-bc97-4feb-a7ef-66618eee9fcb",
   "metadata": {},
   "outputs": [
    {
     "name": "stdout",
     "output_type": "stream",
     "text": [
      "BULLMER Trendy Printed Cotton Blend Crew Neck/Round Neck Half Sleeve Tshirt for Men - Pack of 3\n",
      "459\n",
      "3.2\n",
      "In stock\n"
     ]
    }
   ],
   "source": [
    "# connect to the website\n",
    "\n",
    "URL = 'https://www.amazon.in/BULLMER-Trendy-Printed-Cotton-Regular/dp/B0DJYK59R2?source=ps-sl-shoppingads-lpcontext&ref_=fplfs&smid=AB57CX8LB83EF&th=1&psc=1'\n",
    "\n",
    "headers =  {\"User-Agent\": \"Mozilla/5.0 (Windows NT 10.0; Win64; x64) AppleWebKit/537.36 (KHTML, like Gecko) Chrome/135.0.0.0 Safari/537.36\",\"Accept-Language\": \"en-US,en;q=0.9\"}\n",
    "\n",
    "page = requests.get(URL,headers = headers)\n",
    "\n",
    "soup1 = BeautifulSoup(page.content,'html.parser') \n",
    "\n",
    "soup2 = BeautifulSoup(soup1.prettify(), 'html.parser')\n",
    "\n",
    "title = soup2.find('span', {'id': 'productTitle'}).get_text().strip()\n",
    "\n",
    "price = soup2.find('span', {'class' : 'a-price-whole'}).get_text().strip()\n",
    "\n",
    "rating = soup2.find('span',{'class' : 'a-size-base a-color-base'}).get_text().strip()\n",
    "\n",
    "stock = soup2.find('span',{'class' : 'a-size-medium a-color-success'}).get_text().strip()\n",
    "\n",
    "print(title)\n",
    "\n",
    "print(price)\n",
    "\n",
    "print(rating)\n",
    "\n",
    "print(stock)\n"
   ]
  },
  {
   "cell_type": "code",
   "execution_count": 116,
   "id": "98434d94-1480-4102-a0e5-f4afd56e7b5d",
   "metadata": {},
   "outputs": [
    {
     "name": "stdout",
     "output_type": "stream",
     "text": [
      "2025-05-01\n"
     ]
    }
   ],
   "source": [
    "import datetime\n",
    "\n",
    "today = datetime.date.today()\n",
    "print(today)"
   ]
  },
  {
   "cell_type": "code",
   "execution_count": 120,
   "id": "2a097b97-ff2f-4a84-85c4-01d7e1f8cab8",
   "metadata": {},
   "outputs": [],
   "source": [
    "import csv \n",
    "\n",
    "header = [['Product','Price in Rupees','Rating','Stock','Date']]\n",
    "data = [[title,price,rating,stock,today]]\n",
    "\n",
    "with open('AmazonWebScrapingDataSet.csv','w',newline='',encoding ='UTF8') as  f:\n",
    "    #writer = csv.writer(f)\n",
    "    #writer.writerows(header) # dont run the second time it will delete your data\n",
    "    #writer.writerows(data)"
   ]
  },
  {
   "cell_type": "code",
   "execution_count": 130,
   "id": "cb108d5d-dfbc-45df-abee-e75ec434bc69",
   "metadata": {},
   "outputs": [
    {
     "data": {
      "text/html": [
       "<div>\n",
       "<style scoped>\n",
       "    .dataframe tbody tr th:only-of-type {\n",
       "        vertical-align: middle;\n",
       "    }\n",
       "\n",
       "    .dataframe tbody tr th {\n",
       "        vertical-align: top;\n",
       "    }\n",
       "\n",
       "    .dataframe thead th {\n",
       "        text-align: right;\n",
       "    }\n",
       "</style>\n",
       "<table border=\"1\" class=\"dataframe\">\n",
       "  <thead>\n",
       "    <tr style=\"text-align: right;\">\n",
       "      <th></th>\n",
       "      <th>Product</th>\n",
       "      <th>Price in Rupees</th>\n",
       "      <th>Rating</th>\n",
       "      <th>Stock</th>\n",
       "      <th>Date</th>\n",
       "    </tr>\n",
       "  </thead>\n",
       "  <tbody>\n",
       "    <tr>\n",
       "      <th>0</th>\n",
       "      <td>BULLMER Trendy Printed Cotton Blend Crew Neck/...</td>\n",
       "      <td>459</td>\n",
       "      <td>3.2</td>\n",
       "      <td>In stock</td>\n",
       "      <td>2025-05-01</td>\n",
       "    </tr>\n",
       "    <tr>\n",
       "      <th>1</th>\n",
       "      <td>BULLMER Trendy Printed Cotton Blend Crew Neck/...</td>\n",
       "      <td>459</td>\n",
       "      <td>3.2</td>\n",
       "      <td>In stock</td>\n",
       "      <td>2025-05-01</td>\n",
       "    </tr>\n",
       "    <tr>\n",
       "      <th>2</th>\n",
       "      <td>BULLMER Trendy Printed Cotton Blend Crew Neck/...</td>\n",
       "      <td>459</td>\n",
       "      <td>3.2</td>\n",
       "      <td>In stock</td>\n",
       "      <td>2025-05-01</td>\n",
       "    </tr>\n",
       "    <tr>\n",
       "      <th>3</th>\n",
       "      <td>BULLMER Trendy Printed Cotton Blend Crew Neck/...</td>\n",
       "      <td>459</td>\n",
       "      <td>3.2</td>\n",
       "      <td>In stock</td>\n",
       "      <td>2025-05-01</td>\n",
       "    </tr>\n",
       "  </tbody>\n",
       "</table>\n",
       "</div>"
      ],
      "text/plain": [
       "                                             Product  Price in Rupees  Rating  \\\n",
       "0  BULLMER Trendy Printed Cotton Blend Crew Neck/...              459     3.2   \n",
       "1  BULLMER Trendy Printed Cotton Blend Crew Neck/...              459     3.2   \n",
       "2  BULLMER Trendy Printed Cotton Blend Crew Neck/...              459     3.2   \n",
       "3  BULLMER Trendy Printed Cotton Blend Crew Neck/...              459     3.2   \n",
       "\n",
       "      Stock        Date  \n",
       "0  In stock  2025-05-01  \n",
       "1  In stock  2025-05-01  \n",
       "2  In stock  2025-05-01  \n",
       "3  In stock  2025-05-01  "
      ]
     },
     "execution_count": 130,
     "metadata": {},
     "output_type": "execute_result"
    }
   ],
   "source": [
    "import pandas as pd\n",
    "\n",
    "df = pd.read_csv(r\"C:\\Users\\DELL.WIN-EFQG1MH1O15\\Desktop\\Alex the analyst\\Python\\AmazonWebScrapingDataSet.csv\")\n",
    "\n",
    "df"
   ]
  },
  {
   "cell_type": "code",
   "execution_count": 128,
   "id": "28de8bbe-bf6b-4817-a344-857c728cf4d2",
   "metadata": {},
   "outputs": [],
   "source": [
    "# append data to the csv\n",
    "\n",
    "with open('AmazonWebScrapingDataSet.csv','a+',newline='',encoding ='UTF8') as  f:\n",
    "    writer = csv.writer(f)\n",
    "    writer.writerows(data)"
   ]
  },
  {
   "cell_type": "code",
   "execution_count": null,
   "id": "cb56c2f9-684f-4e13-9c9a-bcc8ec5006c2",
   "metadata": {},
   "outputs": [],
   "source": [
    "def check_price():\n",
    "    URL = 'https://www.amazon.in/BULLMER-Trendy-Printed-Cotton-Regular/dp/B0DJYK59R2?source=ps-sl-shoppingads-lpcontext&ref_=fplfs&smid=AB57CX8LB83EF&th=1&psc=1'\n",
    "\n",
    "    headers =  {\"User-Agent\": \"Mozilla/5.0 (Windows NT 10.0; Win64; x64) AppleWebKit/537.36 (KHTML, like Gecko) Chrome/135.0.0.0 Safari/537.36\",\"Accept-Language\": \"en-US,en;q=0.9\"}\n",
    "\n",
    "    page = requests.get(URL,headers = headers)\n",
    "\n",
    "    soup1 = BeautifulSoup(page.content,'html.parser') \n",
    "\n",
    "    soup2 = BeautifulSoup(soup1.prettify(), 'html.parser')\n",
    "\n",
    "    title = soup2.find('span', {'id': 'productTitle'}).get_text().strip()\n",
    "\n",
    "    price = soup2.find('span', {'class' : 'a-price-whole'}).get_text().strip()\n",
    "\n",
    "    rating = soup2.find('span',{'class' : 'a-size-base a-color-base'}).get_text().strip()\n",
    "\n",
    "    stock = soup2.find('span',{'class' : 'a-size-medium a-color-success'}).get_text().strip()\n",
    "\n",
    "    import datetime\n",
    "\n",
    "    today = datetime.date.today()\n",
    "\n",
    "    import csv \n",
    "\n",
    "    header = [['Product','Price in Rupees','Rating','Stock','Date']]\n",
    "    \n",
    "    data = [[title,price,rating,stock,today]]\n",
    "\n",
    "    with open('AmazonWebScrapingDataSet.csv','a+',newline='',encoding ='UTF8') as  f:\n",
    "        writer = csv.writer(f)\n",
    "        writer.writerows(data)\n",
    "\n",
    "    if (price < 500):\n",
    "        send_mail()"
   ]
  },
  {
   "cell_type": "code",
   "execution_count": null,
   "id": "a798285e-db6f-431e-931f-0d95aed2a927",
   "metadata": {},
   "outputs": [],
   "source": [
    "while (True):\n",
    "    check_price()\n",
    "    time.sleep(10)"
   ]
  },
  {
   "cell_type": "code",
   "execution_count": null,
   "id": "a584d69d-4c84-4ac3-8e8a-e52f0c97ef4a",
   "metadata": {},
   "outputs": [],
   "source": [
    "import pandas as pd\n",
    "\n",
    "df = pd.read_csv(r\"C:\\Users\\DELL.WIN-EFQG1MH1O15\\Desktop\\Alex the analyst\\Python\\AmazonWebScrapingDataSet.csv\")\n",
    "\n",
    "df"
   ]
  },
  {
   "cell_type": "code",
   "execution_count": null,
   "id": "c2d15251-0ca9-4e16-9291-e750c55fd42d",
   "metadata": {},
   "outputs": [],
   "source": [
    "def send_mail():\n",
    "    server = smtplib.SMTP_SSL('smtp.gmail.com',465)\n",
    "    server.ehlo()\n",
    "    #server.starttls()\n",
    "    server.ehlo()\n",
    "    server.login('izumichannn77@gmail.com','ronv1736@')\n",
    "    \n",
    "    subject = \"Just a test email to check!\"\n",
    "    body = \"Yoooo, This is the moment we have been waiting for. Now is your chance to pick up the shirt of your dreams. Don't mess it up! Link here:'https://www.amazon.in/BULLMER-Trendy-Printed-Cotton-Regular/dp/B0DJYK59R2?source=ps-sl-shoppingads-lpcontext&ref_=fplfs&smid=AB57CX8LB83EF&th=1&psc=1'\"\n",
    "   \n",
    "    msg = f\"Subject: {subject}\\n\\n{body}\"\n",
    "    \n",
    "    server.sendmail(\n",
    "        'izumichannn77@gmail.com',\n",
    "        msg\n",
    "     \n",
    "    )\n"
   ]
  },
  {
   "cell_type": "code",
   "execution_count": null,
   "id": "ada3f6a1-e771-4ea7-b7db-b11ed42b80f0",
   "metadata": {},
   "outputs": [],
   "source": []
  }
 ],
 "metadata": {
  "kernelspec": {
   "display_name": "Python [conda env:base] *",
   "language": "python",
   "name": "conda-base-py"
  },
  "language_info": {
   "codemirror_mode": {
    "name": "ipython",
    "version": 3
   },
   "file_extension": ".py",
   "mimetype": "text/x-python",
   "name": "python",
   "nbconvert_exporter": "python",
   "pygments_lexer": "ipython3",
   "version": "3.12.7"
  }
 },
 "nbformat": 4,
 "nbformat_minor": 5
}
